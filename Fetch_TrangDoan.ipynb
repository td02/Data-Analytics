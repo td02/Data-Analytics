{
  "nbformat": 4,
  "nbformat_minor": 0,
  "metadata": {
    "colab": {
      "provenance": [],
      "authorship_tag": "ABX9TyNDl7Wro1g+yvJL8eM6e2na",
      "include_colab_link": true
    },
    "kernelspec": {
      "name": "python3",
      "display_name": "Python 3"
    },
    "language_info": {
      "name": "python"
    }
  },
  "cells": [
    {
      "cell_type": "markdown",
      "metadata": {
        "id": "view-in-github",
        "colab_type": "text"
      },
      "source": [
        "<a href=\"https://colab.research.google.com/github/td02/Data-Analytics/blob/main/Fetch_TrangDoan.ipynb\" target=\"_parent\"><img src=\"https://colab.research.google.com/assets/colab-badge.svg\" alt=\"Open In Colab\"/></a>"
      ]
    },
    {
      "cell_type": "markdown",
      "source": [
        "# Part 2: SQL"
      ],
      "metadata": {
        "id": "CjSOWc2o_QJc"
      }
    },
    {
      "cell_type": "code",
      "source": [
        "#Unzip json.qz files and create dataframe for each table\n",
        "\n",
        "import gzip\n",
        "import json\n",
        "import shutil\n",
        "receipts = pd.read_json('/content/receipts.json.gz', lines=True)\n",
        "brands = pd.read_json('/content/brands.json.gz', lines=True)\n",
        "\n",
        "with gzip.open('/content/users.json.gz', 'rb') as file_in:\n",
        "          with open('/content/users.json.gz'.replace('.gz',''), 'wb') as file_out:\n",
        "            shutil.copyfileobj(file_in, file_out)\n",
        "\n",
        "users = pd.read_json('users.json', lines=True)\n"
      ],
      "metadata": {
        "id": "5ArqB6_oXUdx"
      },
      "execution_count": null,
      "outputs": []
    },
    {
      "cell_type": "markdown",
      "source": [
        "#For MySQL: \n",
        "#Which brand has the most spend among users who were created within the past 6 months\n",
        "Creating a table that joins brands, receipts, and users\n",
        "<br>WITH summary as \n",
        "<br>(select \n",
        "  <br>b._id,b.name as brandName,sum(r.totalSpent) as totalSpent,u._id,u. createdDate\n",
        "<br>from brands as b\n",
        "<br>inner join receipts as r\n",
        "<br>on b._id = r.brand_id\n",
        "<br>inner join users as u\n",
        "<br>on u._id=r.userId\n",
        ")\n",
        "<br>Using the summary table to pull out customers that created their account within 6 months and how much they spent per brand\n",
        "<br>select brandName, \n",
        "<br>sum(totalSpent) over (partition by brandName) as Spent\n",
        "<br>from summary\n",
        "<br>where datediff(month, u.createdDate, getdate()) <= 6\n",
        "<br> order by Spent desc\n",
        "<br>limit 5;"
      ],
      "metadata": {
        "id": "sJvuxK2iHLs9"
      }
    },
    {
      "cell_type": "markdown",
      "source": [
        "#Part 3. Data Quality Check\n"
      ],
      "metadata": {
        "id": "3y-v1Izy_ad5"
      }
    },
    {
      "cell_type": "code",
      "execution_count": null,
      "metadata": {
        "id": "mcbaR57ENr2D"
      },
      "outputs": [],
      "source": [
        "#Import necessary packages\n",
        "import sqlite3\n",
        "import pandas as pd\n",
        "import matplotlib.pyplot as plt\n",
        "import numpy as np\n",
        "import seaborn as sns"
      ]
    },
    {
      "cell_type": "code",
      "source": [
        "receipts['rewardsReceiptItemList']"
      ],
      "metadata": {
        "colab": {
          "base_uri": "https://localhost:8080/"
        },
        "id": "6IZ4O9EgtweM",
        "outputId": "b489b6b9-6c7f-49f8-8938-264da6d6a48b"
      },
      "execution_count": null,
      "outputs": [
        {
          "output_type": "execute_result",
          "data": {
            "text/plain": [
              "0       [{'barcode': '4011', 'description': 'ITEM NOT ...\n",
              "1       [{'barcode': '4011', 'description': 'ITEM NOT ...\n",
              "2       [{'needsFetchReview': False, 'partnerItemId': ...\n",
              "3       [{'barcode': '4011', 'description': 'ITEM NOT ...\n",
              "4       [{'barcode': '4011', 'description': 'ITEM NOT ...\n",
              "                              ...                        \n",
              "1114    [{'barcode': 'B076FJ92M4', 'description': 'mue...\n",
              "1115                                                  NaN\n",
              "1116                                                  NaN\n",
              "1117    [{'barcode': 'B076FJ92M4', 'description': 'mue...\n",
              "1118                                                  NaN\n",
              "Name: rewardsReceiptItemList, Length: 1119, dtype: object"
            ]
          },
          "metadata": {},
          "execution_count": 160
        }
      ]
    },
    {
      "cell_type": "code",
      "source": [
        "#Take a quick look of how data look\n",
        "receipts.info()\n",
        "receipts.head()\n",
        "\n",
        "brands.info()\n",
        "brands.head()\n",
        "\n",
        "users.info()\n",
        "users.head()"
      ],
      "metadata": {
        "colab": {
          "base_uri": "https://localhost:8080/",
          "height": 1000
        },
        "id": "LnB1isV_17jd",
        "outputId": "38045c4d-d827-41bb-b788-0ec779631ad2"
      },
      "execution_count": null,
      "outputs": [
        {
          "output_type": "stream",
          "name": "stdout",
          "text": [
            "<class 'pandas.core.frame.DataFrame'>\n",
            "RangeIndex: 1119 entries, 0 to 1118\n",
            "Data columns (total 15 columns):\n",
            " #   Column                   Non-Null Count  Dtype  \n",
            "---  ------                   --------------  -----  \n",
            " 0   _id                      1119 non-null   object \n",
            " 1   bonusPointsEarned        544 non-null    float64\n",
            " 2   bonusPointsEarnedReason  544 non-null    object \n",
            " 3   createDate               1119 non-null   object \n",
            " 4   dateScanned              1119 non-null   object \n",
            " 5   finishedDate             568 non-null    object \n",
            " 6   modifyDate               1119 non-null   object \n",
            " 7   pointsAwardedDate        537 non-null    object \n",
            " 8   pointsEarned             609 non-null    float64\n",
            " 9   purchaseDate             671 non-null    object \n",
            " 10  purchasedItemCount       635 non-null    float64\n",
            " 11  rewardsReceiptItemList   679 non-null    object \n",
            " 12  rewardsReceiptStatus     1119 non-null   object \n",
            " 13  totalSpent               684 non-null    float64\n",
            " 14  userId                   1119 non-null   object \n",
            "dtypes: float64(4), object(11)\n",
            "memory usage: 131.3+ KB\n",
            "<class 'pandas.core.frame.DataFrame'>\n",
            "RangeIndex: 1167 entries, 0 to 1166\n",
            "Data columns (total 8 columns):\n",
            " #   Column        Non-Null Count  Dtype  \n",
            "---  ------        --------------  -----  \n",
            " 0   _id           1167 non-null   object \n",
            " 1   barcode       1167 non-null   int64  \n",
            " 2   category      1012 non-null   object \n",
            " 3   categoryCode  517 non-null    object \n",
            " 4   cpg           1167 non-null   object \n",
            " 5   name          1167 non-null   object \n",
            " 6   topBrand      555 non-null    float64\n",
            " 7   brandCode     933 non-null    object \n",
            "dtypes: float64(1), int64(1), object(6)\n",
            "memory usage: 73.1+ KB\n",
            "<class 'pandas.core.frame.DataFrame'>\n",
            "RangeIndex: 495 entries, 0 to 494\n",
            "Data columns (total 7 columns):\n",
            " #   Column        Non-Null Count  Dtype \n",
            "---  ------        --------------  ----- \n",
            " 0   _id           495 non-null    object\n",
            " 1   active        495 non-null    bool  \n",
            " 2   createdDate   495 non-null    object\n",
            " 3   lastLogin     433 non-null    object\n",
            " 4   role          495 non-null    object\n",
            " 5   signUpSource  447 non-null    object\n",
            " 6   state         439 non-null    object\n",
            "dtypes: bool(1), object(6)\n",
            "memory usage: 23.8+ KB\n"
          ]
        },
        {
          "output_type": "execute_result",
          "data": {
            "text/plain": [
              "                                    _id  active               createdDate  \\\n",
              "0  {'$oid': '5ff1e194b6a9d73a3a9f1052'}    True  {'$date': 1609687444800}   \n",
              "1  {'$oid': '5ff1e194b6a9d73a3a9f1052'}    True  {'$date': 1609687444800}   \n",
              "2  {'$oid': '5ff1e194b6a9d73a3a9f1052'}    True  {'$date': 1609687444800}   \n",
              "3  {'$oid': '5ff1e1eacfcf6c399c274ae6'}    True  {'$date': 1609687530554}   \n",
              "4  {'$oid': '5ff1e194b6a9d73a3a9f1052'}    True  {'$date': 1609687444800}   \n",
              "\n",
              "                  lastLogin      role signUpSource state  \n",
              "0  {'$date': 1609687537858}  consumer        Email    WI  \n",
              "1  {'$date': 1609687537858}  consumer        Email    WI  \n",
              "2  {'$date': 1609687537858}  consumer        Email    WI  \n",
              "3  {'$date': 1609687530597}  consumer        Email    WI  \n",
              "4  {'$date': 1609687537858}  consumer        Email    WI  "
            ],
            "text/html": [
              "\n",
              "  <div id=\"df-d1407010-57f8-471b-b87c-ae851d3feac0\">\n",
              "    <div class=\"colab-df-container\">\n",
              "      <div>\n",
              "<style scoped>\n",
              "    .dataframe tbody tr th:only-of-type {\n",
              "        vertical-align: middle;\n",
              "    }\n",
              "\n",
              "    .dataframe tbody tr th {\n",
              "        vertical-align: top;\n",
              "    }\n",
              "\n",
              "    .dataframe thead th {\n",
              "        text-align: right;\n",
              "    }\n",
              "</style>\n",
              "<table border=\"1\" class=\"dataframe\">\n",
              "  <thead>\n",
              "    <tr style=\"text-align: right;\">\n",
              "      <th></th>\n",
              "      <th>_id</th>\n",
              "      <th>active</th>\n",
              "      <th>createdDate</th>\n",
              "      <th>lastLogin</th>\n",
              "      <th>role</th>\n",
              "      <th>signUpSource</th>\n",
              "      <th>state</th>\n",
              "    </tr>\n",
              "  </thead>\n",
              "  <tbody>\n",
              "    <tr>\n",
              "      <th>0</th>\n",
              "      <td>{'$oid': '5ff1e194b6a9d73a3a9f1052'}</td>\n",
              "      <td>True</td>\n",
              "      <td>{'$date': 1609687444800}</td>\n",
              "      <td>{'$date': 1609687537858}</td>\n",
              "      <td>consumer</td>\n",
              "      <td>Email</td>\n",
              "      <td>WI</td>\n",
              "    </tr>\n",
              "    <tr>\n",
              "      <th>1</th>\n",
              "      <td>{'$oid': '5ff1e194b6a9d73a3a9f1052'}</td>\n",
              "      <td>True</td>\n",
              "      <td>{'$date': 1609687444800}</td>\n",
              "      <td>{'$date': 1609687537858}</td>\n",
              "      <td>consumer</td>\n",
              "      <td>Email</td>\n",
              "      <td>WI</td>\n",
              "    </tr>\n",
              "    <tr>\n",
              "      <th>2</th>\n",
              "      <td>{'$oid': '5ff1e194b6a9d73a3a9f1052'}</td>\n",
              "      <td>True</td>\n",
              "      <td>{'$date': 1609687444800}</td>\n",
              "      <td>{'$date': 1609687537858}</td>\n",
              "      <td>consumer</td>\n",
              "      <td>Email</td>\n",
              "      <td>WI</td>\n",
              "    </tr>\n",
              "    <tr>\n",
              "      <th>3</th>\n",
              "      <td>{'$oid': '5ff1e1eacfcf6c399c274ae6'}</td>\n",
              "      <td>True</td>\n",
              "      <td>{'$date': 1609687530554}</td>\n",
              "      <td>{'$date': 1609687530597}</td>\n",
              "      <td>consumer</td>\n",
              "      <td>Email</td>\n",
              "      <td>WI</td>\n",
              "    </tr>\n",
              "    <tr>\n",
              "      <th>4</th>\n",
              "      <td>{'$oid': '5ff1e194b6a9d73a3a9f1052'}</td>\n",
              "      <td>True</td>\n",
              "      <td>{'$date': 1609687444800}</td>\n",
              "      <td>{'$date': 1609687537858}</td>\n",
              "      <td>consumer</td>\n",
              "      <td>Email</td>\n",
              "      <td>WI</td>\n",
              "    </tr>\n",
              "  </tbody>\n",
              "</table>\n",
              "</div>\n",
              "      <button class=\"colab-df-convert\" onclick=\"convertToInteractive('df-d1407010-57f8-471b-b87c-ae851d3feac0')\"\n",
              "              title=\"Convert this dataframe to an interactive table.\"\n",
              "              style=\"display:none;\">\n",
              "        \n",
              "  <svg xmlns=\"http://www.w3.org/2000/svg\" height=\"24px\"viewBox=\"0 0 24 24\"\n",
              "       width=\"24px\">\n",
              "    <path d=\"M0 0h24v24H0V0z\" fill=\"none\"/>\n",
              "    <path d=\"M18.56 5.44l.94 2.06.94-2.06 2.06-.94-2.06-.94-.94-2.06-.94 2.06-2.06.94zm-11 1L8.5 8.5l.94-2.06 2.06-.94-2.06-.94L8.5 2.5l-.94 2.06-2.06.94zm10 10l.94 2.06.94-2.06 2.06-.94-2.06-.94-.94-2.06-.94 2.06-2.06.94z\"/><path d=\"M17.41 7.96l-1.37-1.37c-.4-.4-.92-.59-1.43-.59-.52 0-1.04.2-1.43.59L10.3 9.45l-7.72 7.72c-.78.78-.78 2.05 0 2.83L4 21.41c.39.39.9.59 1.41.59.51 0 1.02-.2 1.41-.59l7.78-7.78 2.81-2.81c.8-.78.8-2.07 0-2.86zM5.41 20L4 18.59l7.72-7.72 1.47 1.35L5.41 20z\"/>\n",
              "  </svg>\n",
              "      </button>\n",
              "      \n",
              "  <style>\n",
              "    .colab-df-container {\n",
              "      display:flex;\n",
              "      flex-wrap:wrap;\n",
              "      gap: 12px;\n",
              "    }\n",
              "\n",
              "    .colab-df-convert {\n",
              "      background-color: #E8F0FE;\n",
              "      border: none;\n",
              "      border-radius: 50%;\n",
              "      cursor: pointer;\n",
              "      display: none;\n",
              "      fill: #1967D2;\n",
              "      height: 32px;\n",
              "      padding: 0 0 0 0;\n",
              "      width: 32px;\n",
              "    }\n",
              "\n",
              "    .colab-df-convert:hover {\n",
              "      background-color: #E2EBFA;\n",
              "      box-shadow: 0px 1px 2px rgba(60, 64, 67, 0.3), 0px 1px 3px 1px rgba(60, 64, 67, 0.15);\n",
              "      fill: #174EA6;\n",
              "    }\n",
              "\n",
              "    [theme=dark] .colab-df-convert {\n",
              "      background-color: #3B4455;\n",
              "      fill: #D2E3FC;\n",
              "    }\n",
              "\n",
              "    [theme=dark] .colab-df-convert:hover {\n",
              "      background-color: #434B5C;\n",
              "      box-shadow: 0px 1px 3px 1px rgba(0, 0, 0, 0.15);\n",
              "      filter: drop-shadow(0px 1px 2px rgba(0, 0, 0, 0.3));\n",
              "      fill: #FFFFFF;\n",
              "    }\n",
              "  </style>\n",
              "\n",
              "      <script>\n",
              "        const buttonEl =\n",
              "          document.querySelector('#df-d1407010-57f8-471b-b87c-ae851d3feac0 button.colab-df-convert');\n",
              "        buttonEl.style.display =\n",
              "          google.colab.kernel.accessAllowed ? 'block' : 'none';\n",
              "\n",
              "        async function convertToInteractive(key) {\n",
              "          const element = document.querySelector('#df-d1407010-57f8-471b-b87c-ae851d3feac0');\n",
              "          const dataTable =\n",
              "            await google.colab.kernel.invokeFunction('convertToInteractive',\n",
              "                                                     [key], {});\n",
              "          if (!dataTable) return;\n",
              "\n",
              "          const docLinkHtml = 'Like what you see? Visit the ' +\n",
              "            '<a target=\"_blank\" href=https://colab.research.google.com/notebooks/data_table.ipynb>data table notebook</a>'\n",
              "            + ' to learn more about interactive tables.';\n",
              "          element.innerHTML = '';\n",
              "          dataTable['output_type'] = 'display_data';\n",
              "          await google.colab.output.renderOutput(dataTable, element);\n",
              "          const docLink = document.createElement('div');\n",
              "          docLink.innerHTML = docLinkHtml;\n",
              "          element.appendChild(docLink);\n",
              "        }\n",
              "      </script>\n",
              "    </div>\n",
              "  </div>\n",
              "  "
            ]
          },
          "metadata": {},
          "execution_count": 69
        }
      ]
    },
    {
      "cell_type": "code",
      "source": [
        "#How many missing data?\n",
        "r_null=receipts.isnull().sum()\n",
        "b_null=brands.isnull().sum()\n",
        "u_null=users.isnull().sum()\n",
        "#How does these missing data look in %?\n",
        "r_mean = receipts.isnull().mean()\n",
        "b_mean=brands.isnull().mean()\n",
        "u_mean=users.isnull().mean()\n",
        "\n",
        "print(r_mean)"
      ],
      "metadata": {
        "colab": {
          "base_uri": "https://localhost:8080/"
        },
        "id": "Gwi1Zrm63o-t",
        "outputId": "e75c075d-ad8b-417c-9282-c4f667971246"
      },
      "execution_count": null,
      "outputs": [
        {
          "output_type": "stream",
          "name": "stdout",
          "text": [
            "_id                        0.000000\n",
            "bonusPointsEarned          0.513852\n",
            "bonusPointsEarnedReason    0.513852\n",
            "createDate                 0.000000\n",
            "dateScanned                0.000000\n",
            "finishedDate               0.492404\n",
            "modifyDate                 0.000000\n",
            "pointsAwardedDate          0.520107\n",
            "pointsEarned               0.455764\n",
            "purchaseDate               0.400357\n",
            "purchasedItemCount         0.432529\n",
            "rewardsReceiptItemList     0.393208\n",
            "rewardsReceiptStatus       0.000000\n",
            "totalSpent                 0.388740\n",
            "userId                     0.000000\n",
            "dtype: float64\n"
          ]
        }
      ]
    },
    {
      "cell_type": "markdown",
      "source": [
        "There are some major concern with data when many variables in receipts have more than 40% of data is missing like purchasedItemCount or finishedDate. Or the variable we needed the most when answering what was the most spent brand is totalSpent which has almost 40% missing data."
      ],
      "metadata": {
        "id": "2w4PcJHE4gKb"
      }
    },
    {
      "cell_type": "code",
      "source": [
        "#Looking at columns for receipts\n",
        "list(receipts.columns)\n",
        "# look at unique userId in receipts\n",
        "sorted(receipts['userId'].unique(),reverse=False)"
      ],
      "metadata": {
        "colab": {
          "base_uri": "https://localhost:8080/"
        },
        "id": "HOsnzkP3loLf",
        "outputId": "1315bb2e-5d9f-443c-dbdc-ed4606ee50f6"
      },
      "execution_count": null,
      "outputs": [
        {
          "output_type": "execute_result",
          "data": {
            "text/plain": [
              "['542ace60e4b0b3d724922499',\n",
              " '54943462e4b07e684157a532',\n",
              " '54ca99a9e4b0b11b4f7d6dc5',\n",
              " '5964eb07e4b03efd0c0f267b',\n",
              " '59c124bae4b0299e55b0f330',\n",
              " '5a43c08fe4b014fd6b6a0612',\n",
              " '5c3388caea88e15513a95069',\n",
              " '5cd06f1f2acf0a2667da628b',\n",
              " '5e27526d0bdb6a138c32b556',\n",
              " '5e56d38507a0df22a15dfc85',\n",
              " '5f9c74e3f1937815bd2c1d73',\n",
              " '5f9c74f7c88c1415cbddb839',\n",
              " '5fa32b4d898c7a11a6bcebce',\n",
              " '5fa41775898c7a11a6bcef3e',\n",
              " '5fa5ad376a26f611e71ab5ef',\n",
              " '5fa5b0b720dc5111dd86dcc1',\n",
              " '5fa8d542b055fd1dfdf09517',\n",
              " '5fa8d573770b516dda4f4d21',\n",
              " '5fb0a078be5fc9775c1f3945',\n",
              " '5fb1bd519c09d811e5211cef',\n",
              " '5fb2da582357ec11d4ecc403',\n",
              " '5fbc35711d967d1222cbfefc',\n",
              " '5fc961c3b8cfca11a077dd33',\n",
              " '5ff1e194b6a9d73a3a9f1052',\n",
              " '5ff1e196cfcf6c399c274a38',\n",
              " '5ff1e1b4cfcf6c399c274a54',\n",
              " '5ff1e1dfcfcf6c399c274ab3',\n",
              " '5ff1e1e4cfcf6c399c274ac3',\n",
              " '5ff1e1e9b6a9d73a3a9f10f6',\n",
              " '5ff1e1eacfcf6c399c274ae6',\n",
              " '5ff1e1f1cfcf6c399c274b0b',\n",
              " '5ff36a3862fde912123a4460',\n",
              " '5ff36be7135e7011bcb856d3',\n",
              " '5ff36d0362fde912123a5535',\n",
              " '5ff36d78135e7011bcb86488',\n",
              " '5ff370c562fde912123a5e0e',\n",
              " '5ff37124135e7011bcb86bc3',\n",
              " '5ff47392c3d63511e2a47881',\n",
              " '5ff473f3c1e2d0121a9b2707',\n",
              " '5ff4ce33c3d63511e2a484b6',\n",
              " '5ff4ce3ac1e2d0121a9b2fb3',\n",
              " '5ff4ce3cc1e2d0121a9b2fba',\n",
              " '5ff4ce3dc3d63511e2a484dc',\n",
              " '5ff4ce65c3d63511e2a4853b',\n",
              " '5ff4ce68c1e2d0121a9b3022',\n",
              " '5ff5d15aeb7c7d12096d91a2',\n",
              " '5ff5d19b8f142f11dd188696',\n",
              " '5ff5d1a38f142f11dd1886ba',\n",
              " '5ff5d1d08f142f11dd18884c',\n",
              " '5ff616a68f142f11dd189163',\n",
              " '5ff7264e8f142f11dd189504',\n",
              " '5ff7268eeb7c7d12096da2a9',\n",
              " '5ff726a38f142f11dd1895dc',\n",
              " '5ff73b90eb7c7d31ca8a452b',\n",
              " '5ff73be5eb7c7d31ca8a45a7',\n",
              " '5ff73be9eb7c7d31ca8a45bc',\n",
              " '5ff73bea8f142f3276c3e84a',\n",
              " '5ff74f3db3348b11c93361d1',\n",
              " '5ff75004b3348b11c9336bd6',\n",
              " '5ff7741e04929111f6e90902',\n",
              " '5ff7930fb3348b11c93372a6',\n",
              " '5ff793dd04929111f6e90c69',\n",
              " '5ff79459b3348b11c933736d',\n",
              " '5ff7946004929111f6e90ceb',\n",
              " '5ff79464b3348b11c933738b',\n",
              " '5ff873d1b3348b11c9337716',\n",
              " '5ff873d304929111f6e91096',\n",
              " '5ff873ddb3348b11c9337733',\n",
              " '5ff8c330b3348b11c9337a04',\n",
              " '5ff8c4e8b3348b11c9337a11',\n",
              " '5ff8c88604929111f6e913b7',\n",
              " '5ff8ce8504929111f6e913cb',\n",
              " '5ff8da28b3348b11c9337ac6',\n",
              " '5ff8da4e04929111f6e91462',\n",
              " '5ff8da62b3348b11c9337b21',\n",
              " '5ff8da65b3348b11c9337b29',\n",
              " '5ff8da7c04929111f6e914de',\n",
              " '5ff8da7db3348b11c9337b6a',\n",
              " '5ff8da7eb3348b11c9337b72',\n",
              " '5ffc8cb304929111f6e9229d',\n",
              " '5ffc8cc104929111f6e922a3',\n",
              " '5ffc8f9704929111f6e922bf',\n",
              " '5ffc8ff9b3348b11c9338896',\n",
              " '5ffc92a104929111f6e923cb',\n",
              " '5ffc98b604929111f6e923f5',\n",
              " '5ffc9d87b3348b11c9338920',\n",
              " '5ffc9d8cb3348b11c9338927',\n",
              " '5ffc9d9cb3348b11c933893f',\n",
              " '5ffc9d9d04929111f6e9244f',\n",
              " '5ffc9da0b3348b11c9338951',\n",
              " '5ffca2f3b3348b11c9338a10',\n",
              " '5ffcb47d04929111f6e9256c',\n",
              " '5ffcb48d04929111f6e92594',\n",
              " '5ffcb4b8b3348b11c9338ae1',\n",
              " '5ffcb4b9b3348b11c9338ae7',\n",
              " '5ffcb4bc04929111f6e92608',\n",
              " '5ffe115404929101d0aaebb2',\n",
              " '5fff0f4fb3348b03eb45abb0',\n",
              " '5fff2698b3348b03eb45bb10',\n",
              " '5fff26bfb3348b03eb45bb32',\n",
              " '5fff4beedf9ace121f0c17ea',\n",
              " '5fff4c7d61ffa811fdb0856f',\n",
              " '5fff55dabd4dff11dda8f5f1',\n",
              " '5fff561abd4dff11dda8fa2b',\n",
              " '600056a3f7e5b011fce897b0',\n",
              " '600056d6bd4dff11dda90a3f',\n",
              " '60005704bd4dff11dda90a9d',\n",
              " '6000b75bbe5fc96dfee1d4d3',\n",
              " '6000b7aefb296c121a8198b1',\n",
              " '6000b884fb296c121a81ad3b',\n",
              " '6000d46cfb296c121a81b20c',\n",
              " '6000d4aafb296c121a81b27e',\n",
              " '6000d4abe2571211db395b5c',\n",
              " '6000d4b5fb296c121a81b2bd',\n",
              " '6000d4bae2571211db395b9f',\n",
              " '60023de5fb296c121a81b955',\n",
              " '6002475cfb296c121a81b98d',\n",
              " '60024f24e257124ec6b99a13',\n",
              " '6002541ae257124ec6b99a3a',\n",
              " '600258dafb296c4ef805d9b7',\n",
              " '60025c65fb296c4ef805d9e6',\n",
              " '60025fe0e257124ec6b99a87',\n",
              " '60037005e257124ec6b99ec2',\n",
              " '60037329e257124ec6b99eeb',\n",
              " '60037a94fb296c4ef805ddbe',\n",
              " '600495c3fb296c4ef805e1fc',\n",
              " '600498c4e257124ec6b9a331',\n",
              " '60049cdce257124ec6b9a353',\n",
              " '6004a5d3fb296c4ef805e256',\n",
              " '6004a965e257124ec6b9a39f',\n",
              " '6006f1c5e257127d5d9aedfb',\n",
              " '600741d06e6469120a787853',\n",
              " '6007423b6e6469120a787c2c',\n",
              " '6007464b6e64691717e8c1f0',\n",
              " '600746fd6e64691717e8cfb5',\n",
              " '600748196e64691717e8d4f0',\n",
              " '60074b49325c8a1794623876',\n",
              " '60074b996e64691717e8f11a',\n",
              " '60083a1e325c8a17946255de',\n",
              " '6008412f6e64697abedcd5d5',\n",
              " '60085b3dbe5fc90ee6a67b11',\n",
              " '600861d3be5fc9247bab3e0c',\n",
              " '6008873eb6310511daa4e8eb',\n",
              " '600887a5b6310511daa4e9a7',\n",
              " '60088838633aab121bb8df69',\n",
              " '6008896c633aab121bb8e11d',\n",
              " '60088a25b6310511daa4ec42',\n",
              " '60088a46b6310511daa4ec97',\n",
              " '60088af5633aab121bb8e31b',\n",
              " '60088aff633aab121bb8e33d',\n",
              " '60088d55633aab121bb8e41a',\n",
              " '60088d58633aab121bb8e424',\n",
              " '60088d5cb6310511daa4ee6f',\n",
              " '6008e9cdb6310511daa4f2e4',\n",
              " '6008f02fb6310511daa4f314',\n",
              " '600987d77d983a11f63cfa92',\n",
              " '600988557d983a11f63d08ef',\n",
              " '6009885c50b33111fd61eee9',\n",
              " '600992d17d983a11f63d11ad',\n",
              " '6009969150b33111fd61f6d9',\n",
              " '60099c1450b33111fd61f702',\n",
              " '6009e60450b3311194385009',\n",
              " '6009f6927d983a124e9adaad',\n",
              " '6009fd1550b33111943850b1',\n",
              " '600a1a457d983a124e9adb9b',\n",
              " '600a1ddf50b33111943851a2',\n",
              " '600af8097d983a124e9adeb3',\n",
              " '600afb2a7d983a124e9aded0',\n",
              " '600b00687d983a124e9adef9',\n",
              " '600b2d7a50b33111943855cb',\n",
              " '600b349550b3311194385600',\n",
              " '600b39ce50b331119438562a',\n",
              " '600b41d050b3311194385655',\n",
              " '600b477e7d983a124e9ae061',\n",
              " '600ba68e7d983a124e9ae1d3',\n",
              " '600ed42e43298911ce45d1fa',\n",
              " '600ed4815edb7811cde6b50b',\n",
              " '600ed95043298911ce45e82c',\n",
              " '600f008f4329897eac237bd8',\n",
              " '600f00d05edb787dce05fb84',\n",
              " '600f014d4329897eac238b88',\n",
              " '600f20c15edb787dce060911',\n",
              " '600f29a64329897eac239049',\n",
              " '600f35015edb782098e2ac1b',\n",
              " '600f41b2bd196811e68ea219',\n",
              " '600f47f06fd0dc1768a34a12',\n",
              " '600f489d6fd0dc1768a35a88',\n",
              " '600fb1ac73c60b12049027bb',\n",
              " '600fb1e4a4b74c120bd18777',\n",
              " '600fb1ec73c60b1204902af4',\n",
              " '6010bddaa4b74c120bd19dfb',\n",
              " '6010bdf673c60b120490404e',\n",
              " '6010be18a4b74c120bd19e43',\n",
              " '6010be1c73c60b1204904079',\n",
              " '6010be6673c60b12049040ef',\n",
              " '60118bcfa4b74c18d3a8c0d7',\n",
              " '60118beaa4b74c18d3a8c0f8',\n",
              " '60118c09a4b74c18d3a8c12e',\n",
              " '60118c0fa4b74c18d3a8c151',\n",
              " '6011f31ea4b74c18d3a8c476',\n",
              " '6011f33173c60b1804ce1102',\n",
              " '6012e1e6a4b74c3cbc516088',\n",
              " '60132acb73c60b3ca7f3ba32',\n",
              " '60132b85a4b74c3cbc516295',\n",
              " '60132b8873c60b3ca7f3bae8',\n",
              " '60132b8b73c60b3ca7f3baee',\n",
              " '6014319173c60b3ca7f3bf01',\n",
              " '601441a984231211ce792603',\n",
              " '601442ce67804a1228b1dc41',\n",
              " '6014435467804a1228b1dcaf',\n",
              " '6014436084231211ce793ced',\n",
              " '6014485b84231211ce793d79',\n",
              " '6014499c67804a1228b1f5b0',\n",
              " '6014554a67804a1228b20ca9',\n",
              " '6014558284231211ce796b88',\n",
              " '6014558767804a1228b20d00',\n",
              " '60145a3c84231211ce796c5d',\n",
              " '60145a5167804a1228b20ddd',\n",
              " '60145a5467804a1228b20ded',\n",
              " '60145ff384231211ce796d51',\n",
              " '6014658e67804a1228b20ef4',\n",
              " '601465a884231211ce796db3',\n",
              " '60146f2ac8b50e11d8452661',\n",
              " '60147a84c8b50e11d8453f29',\n",
              " '60147d2ac8b50e11d8453f53',\n",
              " '60182d6dc8b50e11d84547b2',\n",
              " '60182f1dc8b50e11d84548c4',\n",
              " '60183090c8b50e11d84549c0',\n",
              " '601830cdc8b50e11d8454a6f',\n",
              " '601830ce9a1b091205b618e8',\n",
              " '601836829a1b091205b6194d',\n",
              " '601836c2c8b50e11d8454b58',\n",
              " '60183c839a1b091205b61aca',\n",
              " '60186237c8b50e11d8454d5f',\n",
              " '601890689a1b091205b61c87',\n",
              " '601890b2c8b50e11d8454e82',\n",
              " '60189c74c8b50e11d8454eff',\n",
              " '60189c859a1b091205b61de1',\n",
              " '60189c90c8b50e11d8454f49',\n",
              " '60189c92c8b50e11d8454f5d',\n",
              " '60189c94c8b50e11d8454f6b',\n",
              " '601aaebde409201029849b3c',\n",
              " '601c2c05969c0b11f7d0b097',\n",
              " '601c6887969c0b11f7d0c81f',\n",
              " '601c68ce29c30a1227ada468',\n",
              " '601ead00b57b8a12187fce78',\n",
              " '6021768799409b11fcf8987f',\n",
              " '6022998599409b11fcf89c53',\n",
              " '602401f1c081001222409ad6',\n",
              " '6024291f58b989121e6bad5f',\n",
              " '60245433efa60112282c1859',\n",
              " '60253861efa6017a44dc6b50',\n",
              " '60253891b54593795bf69242',\n",
              " '60255883efa60114d20e5d4e',\n",
              " '602558b1efa60114d20e5dc7',\n",
              " '60268c69efa6011bb151075f',\n",
              " '60268c78efa6011bb151077d',\n",
              " '60268c7bb545931ac63683af']"
            ]
          },
          "metadata": {},
          "execution_count": 135
        }
      ]
    },
    {
      "cell_type": "code",
      "source": [
        "#find unique values in users but the list contains unhashable elements so we can use repr with a set to find unique values:\n",
        "def unique_list(a_list):\n",
        "    seen = set()\n",
        "    for x in a_list:\n",
        "        key = repr(x)\n",
        "        if key not in seen:\n",
        "            seen.add(key)\n",
        "            print(x)\n",
        "\n",
        "unique_list(users['_id'])"
      ],
      "metadata": {
        "colab": {
          "base_uri": "https://localhost:8080/"
        },
        "id": "a_5xF6UGoHBo",
        "outputId": "6077552b-9d07-4a59-b982-ec4da642f9b4"
      },
      "execution_count": null,
      "outputs": [
        {
          "output_type": "stream",
          "name": "stdout",
          "text": [
            "{'$oid': '5ff1e194b6a9d73a3a9f1052'}\n",
            "{'$oid': '5ff1e1eacfcf6c399c274ae6'}\n",
            "{'$oid': '5ff1e1e8cfcf6c399c274ad9'}\n",
            "{'$oid': '5ff1e1b7cfcf6c399c274a5a'}\n",
            "{'$oid': '5ff1e1f1cfcf6c399c274b0b'}\n",
            "{'$oid': '5ff1e1e4cfcf6c399c274ac3'}\n",
            "{'$oid': '5ff1e1b4cfcf6c399c274a54'}\n",
            "{'$oid': '5ff370c562fde912123a5e0e'}\n",
            "{'$oid': '5ff36d0362fde912123a5535'}\n",
            "{'$oid': '5ff36d83135e7011bcb864d6'}\n",
            "{'$oid': '5ff36c8862fde912123a538a'}\n",
            "{'$oid': '5ff36be7135e7011bcb856d3'}\n",
            "{'$oid': '5ff36a3862fde912123a4460'}\n",
            "{'$oid': '5ff36c8e135e7011bcb85da4'}\n",
            "{'$oid': '5ff3711e62fde912123a620e'}\n",
            "{'$oid': '5ff4ce33c3d63511e2a484b6'}\n",
            "{'$oid': '5ff473e7c1e2d0121a9b2697'}\n",
            "{'$oid': '5ff47392c3d63511e2a47881'}\n",
            "{'$oid': '5ff4ce91c1e2d0121a9b3057'}\n",
            "{'$oid': '5ff4ce3dc3d63511e2a484dc'}\n",
            "{'$oid': '5ff4ce34c3d63511e2a484ba'}\n",
            "{'$oid': '5ff4ce3ac1e2d0121a9b2fb3'}\n",
            "{'$oid': '5ff5d15aeb7c7d12096d91a2'}\n",
            "{'$oid': '5ff5d1a38f142f11dd1886ba'}\n",
            "{'$oid': '5ff5d1d08f142f11dd18884c'}\n",
            "{'$oid': '5ff7264e8f142f11dd189504'}\n",
            "{'$oid': '5ff7401ceb7c7d31ca8a46e0'}\n",
            "{'$oid': '5ff73bea8f142f3276c3e84a'}\n",
            "{'$oid': '5ff74f3db3348b11c93361d1'}\n",
            "{'$oid': '5ff73b90eb7c7d31ca8a452b'}\n",
            "{'$oid': '5ff7930fb3348b11c93372a6'}\n",
            "{'$oid': '5ff7268eeb7c7d12096da2a9'}\n",
            "{'$oid': '5ff726a0eb7c7d12096da2db'}\n",
            "{'$oid': '5ff793dd04929111f6e90c69'}\n",
            "{'$oid': '5ff7949eb3348b11c93373d2'}\n",
            "{'$oid': '5ff7268c8f142f11dd189579'}\n",
            "{'$oid': '5ff616a68f142f11dd189163'}\n",
            "{'$oid': '5ff79464b3348b11c933738b'}\n",
            "{'$oid': '5ff8c241b3348b11c93379fc'}\n",
            "{'$oid': '5ff8ce8504929111f6e913cb'}\n",
            "{'$oid': '5ff873d1b3348b11c9337716'}\n",
            "{'$oid': '5ff873ef04929111f6e910f0'}\n",
            "{'$oid': '5ff8c4e8b3348b11c9337a11'}\n",
            "{'$oid': '5ff8da28b3348b11c9337ac6'}\n",
            "{'$oid': '5ff8da7db3348b11c9337b6a'}\n",
            "{'$oid': '5ff873ddb3348b11c9337733'}\n",
            "{'$oid': '5ff8a11db3348b11c93378aa'}\n",
            "{'$oid': '5ff8d634b3348b11c9337aa4'}\n",
            "{'$oid': '5ff8c330b3348b11c9337a04'}\n",
            "{'$oid': '5ff8da7eb3348b11c9337b72'}\n",
            "{'$oid': '5ffcb47d04929111f6e9256c'}\n",
            "{'$oid': '5ffc8ff9b3348b11c9338896'}\n",
            "{'$oid': '5ffc8f9704929111f6e922bf'}\n",
            "{'$oid': '5ffc9001b3348b11c93388b6'}\n",
            "{'$oid': '5ffcb4bc04929111f6e92608'}\n",
            "{'$oid': '5ffc9d87b3348b11c9338920'}\n",
            "{'$oid': '5ffc9d9f04929111f6e92456'}\n",
            "{'$oid': '5ffca30604929111f6e92525'}\n",
            "{'$oid': '5fff0f9804929101d0ab0697'}\n",
            "{'$oid': '5fff0f4fb3348b03eb45abb0'}\n",
            "{'$oid': '5fff4beedf9ace121f0c17ea'}\n",
            "{'$oid': '5ffe115404929101d0aaebb2'}\n",
            "{'$oid': '5fff55dabd4dff11dda8f5f1'}\n",
            "{'$oid': '5fff26bab3348b03eb45bb22'}\n",
            "{'$oid': '5fff4c7461ffa811fdb0854c'}\n",
            "{'$oid': '5fff26bfb3348b03eb45bb32'}\n",
            "{'$oid': '5fff26f2b3348b03eb45bbb9'}\n",
            "{'$oid': '6000d4bae2571211db395b9f'}\n",
            "{'$oid': '600056a3f7e5b011fce897b0'}\n",
            "{'$oid': '6000d46cfb296c121a81b20c'}\n",
            "{'$oid': '6000b7aefb296c121a8198b1'}\n",
            "{'$oid': '60005709bd4dff11dda90ac1'}\n",
            "{'$oid': '5e27526d0bdb6a138c32b556'}\n",
            "{'$oid': '6000d4abe2571211db395b5c'}\n",
            "{'$oid': '600056d6bd4dff11dda90a3f'}\n",
            "{'$oid': '60005704bd4dff11dda90a9d'}\n",
            "{'$oid': '6002475cfb296c121a81b98d'}\n",
            "{'$oid': '60024f24e257124ec6b99a13'}\n",
            "{'$oid': '60037329e257124ec6b99eeb'}\n",
            "{'$oid': '6000b75bbe5fc96dfee1d4d3'}\n",
            "{'$oid': '6002541ae257124ec6b99a3a'}\n",
            "{'$oid': '600258dafb296c4ef805d9b7'}\n",
            "{'$oid': '60025c65fb296c4ef805d9e6'}\n",
            "{'$oid': '60037005e257124ec6b99ec2'}\n",
            "{'$oid': '60023de5fb296c121a81b955'}\n",
            "{'$oid': '60049cdce257124ec6b9a353'}\n",
            "{'$oid': '60025fe0e257124ec6b99a87'}\n",
            "{'$oid': '600498c4e257124ec6b9a331'}\n",
            "{'$oid': '6004a5d3fb296c4ef805e256'}\n",
            "{'$oid': '60037a94fb296c4ef805ddbe'}\n",
            "{'$oid': '600495c3fb296c4ef805e1fc'}\n",
            "{'$oid': '6004a965e257124ec6b9a39f'}\n",
            "{'$oid': '6007464b6e64691717e8c1f0'}\n",
            "{'$oid': '600741d06e6469120a787853'}\n",
            "{'$oid': '600748196e64691717e8d4f0'}\n",
            "{'$oid': '600746fd6e64691717e8cfb5'}\n",
            "{'$oid': '60074b49325c8a1794623876'}\n",
            "{'$oid': '60074b996e64691717e8f11a'}\n",
            "{'$oid': '60074246325c8a12289e22a0'}\n",
            "{'$oid': '60074883325c8a1794622a12'}\n",
            "{'$oid': '6006f786fb296c7f688530f8'}\n",
            "{'$oid': '60088d55633aab121bb8e41a'}\n",
            "{'$oid': '6008893b633aab121bb8e0a9'}\n",
            "{'$oid': '60083a1e325c8a17946255de'}\n",
            "{'$oid': '6008896c633aab121bb8e11d'}\n",
            "{'$oid': '60086a09b6310511daa4e1e9'}\n",
            "{'$oid': '60088e5d633aab121bb8e5cf'}\n",
            "{'$oid': '60085b3dbe5fc90ee6a67b11'}\n",
            "{'$oid': '60088e44b6310511daa4ef80'}\n",
            "{'$oid': '60088d84633aab121bb8e4a6'}\n",
            "{'$oid': '6008873eb6310511daa4e8eb'}\n",
            "{'$oid': '60086978633aab121bb8c895'}\n",
            "{'$oid': '60088a25b6310511daa4ec42'}\n",
            "{'$oid': '6008622ebe5fc9247bab4eb9'}\n",
            "{'$oid': '6008897ab6310511daa4ebdc'}\n",
            "{'$oid': '60088a46b6310511daa4ec97'}\n",
            "{'$oid': '600987d77d983a11f63cfa92'}\n",
            "{'$oid': '6008f02fb6310511daa4f314'}\n",
            "{'$oid': '600988557d983a11f63d08ef'}\n",
            "{'$oid': '6009885c50b33111fd61eee9'}\n",
            "{'$oid': '6009e60450b3311194385009'}\n",
            "{'$oid': '6008d447b6310511daa4f281'}\n",
            "{'$oid': '60099c1450b33111fd61f702'}\n",
            "{'$oid': '6008e9cdb6310511daa4f2e4'}\n",
            "{'$oid': '600a03e17d983a124e9adb0f'}\n",
            "{'$oid': '600992d17d983a11f63d11ad'}\n",
            "{'$oid': '600b477e7d983a124e9ae061'}\n",
            "{'$oid': '600f008f4329897eac237bd8'}\n",
            "{'$oid': '600ed4815edb7811cde6b50b'}\n",
            "{'$oid': '600f41b2bd196811e68ea219'}\n",
            "{'$oid': '600f20c15edb787dce060911'}\n",
            "{'$oid': '600f47f06fd0dc1768a34a12'}\n",
            "{'$oid': '600ed42e43298911ce45d1fa'}\n",
            "{'$oid': '600eea525edb7811cde6c81c'}\n",
            "{'$oid': '600ed48a5edb7811cde6b549'}\n",
            "{'$oid': '600fb1ac73c60b12049027bb'}\n",
            "{'$oid': '600fb1ec73c60b1204902af4'}\n",
            "{'$oid': '600fb1e4a4b74c120bd18777'}\n",
            "{'$oid': '6011f33173c60b1804ce1102'}\n",
            "{'$oid': '6011f43ba4b74c18d3a8ca01'}\n",
            "{'$oid': '6011f31ea4b74c18d3a8c476'}\n",
            "{'$oid': '6011f42773c60b1804ce1607'}\n",
            "{'$oid': '60118bcfa4b74c18d3a8c0d7'}\n",
            "{'$oid': '6010be65a4b74c120bd19edc'}\n",
            "{'$oid': '6010bddaa4b74c120bd19dfb'}\n",
            "{'$oid': '60118c0fa4b74c18d3a8c151'}\n",
            "{'$oid': '6010be6673c60b12049040ef'}\n",
            "{'$oid': '6010be6173c60b12049040d7'}\n",
            "{'$oid': '60132acb73c60b3ca7f3ba32'}\n",
            "{'$oid': '600f00d05edb787dce05fb84'}\n",
            "{'$oid': '60132b85a4b74c3cbc516295'}\n",
            "{'$oid': '60132b8b73c60b3ca7f3baee'}\n",
            "{'$oid': '600f19914329897eac238fef'}\n",
            "{'$oid': '6014558767804a1228b20d00'}\n",
            "{'$oid': '601465c567804a1228b20f89'}\n",
            "{'$oid': '60145a3c84231211ce796c5d'}\n",
            "{'$oid': '6014499c67804a1228b1f5b0'}\n",
            "{'$oid': '600f35015edb782098e2ac1b'}\n",
            "{'$oid': '60147001c8b50e11d8453c36'}\n",
            "{'$oid': '60145a5584231211ce796cac'}\n",
            "{'$oid': '6014319173c60b3ca7f3bf01'}\n",
            "{'$oid': '6014558467804a1228b20cf0'}\n",
            "{'$oid': '6014485b84231211ce793d79'}\n",
            "{'$oid': '601431c173c60b3ca7f3bf63'}\n",
            "{'$oid': '601465a884231211ce796db3'}\n",
            "{'$oid': '60145ff384231211ce796d51'}\n",
            "{'$oid': '60146f2ac8b50e11d8452661'}\n",
            "{'$oid': '6014658e67804a1228b20ef4'}\n",
            "{'$oid': '601442ce67804a1228b1dc41'}\n",
            "{'$oid': '601465a584231211ce796da5'}\n",
            "{'$oid': '60147d2ac8b50e11d8453f53'}\n",
            "{'$oid': '601890a99a1b091205b61ced'}\n",
            "{'$oid': '60183090c8b50e11d84549c0'}\n",
            "{'$oid': '60182f4ac8b50e11d8454946'}\n",
            "{'$oid': '60182d6dc8b50e11d84547b2'}\n",
            "{'$oid': '60183c579a1b091205b61a5f'}\n",
            "{'$oid': '60189c94c8b50e11d8454f6b'}\n",
            "{'$oid': '60189c74c8b50e11d8454eff'}\n",
            "{'$oid': '60189c88c8b50e11d8454f2f'}\n",
            "{'$oid': '60189c859a1b091205b61de1'}\n",
            "{'$oid': '60186237c8b50e11d8454d5f'}\n",
            "{'$oid': '601ac1da591789121574dc07'}\n",
            "{'$oid': '60183e6c9a1b091205b61b49'}\n",
            "{'$oid': '601ac195af4b1a1205f7560f'}\n",
            "{'$oid': '601c6887969c0b11f7d0c81f'}\n",
            "{'$oid': '601c68d229c30a1227ada484'}\n",
            "{'$oid': '601c2c05969c0b11f7d0b097'}\n",
            "{'$oid': '601c2c6a29c30a1227ad93bd'}\n",
            "{'$oid': '55308179e4b0eabd8f99caa2'}\n",
            "{'$oid': '60217fa799409b11fcf899fe'}\n",
            "{'$oid': '602176c9b57b8a12187fe77e'}\n",
            "{'$oid': '602176a3b57b8a12187fe717'}\n",
            "{'$oid': '6022998599409b11fcf89c53'}\n",
            "{'$oid': '60229990b57b8a12187fe9e0'}\n",
            "{'$oid': '59c124bae4b0299e55b0f330'}\n",
            "{'$oid': '6024399defa60112282c0ac9'}\n",
            "{'$oid': '5f2068904928021530f8fc34'}\n",
            "{'$oid': '602558b1efa60114d20e5dc7'}\n",
            "{'$oid': '602538adb54593795bf692ac'}\n",
            "{'$oid': '60255883efa60114d20e5d4e'}\n",
            "{'$oid': '602558adb5459313e1e9b7ce'}\n",
            "{'$oid': '6025388fb54593795bf69234'}\n",
            "{'$oid': '5fb0a078be5fc9775c1f3945'}\n",
            "{'$oid': '60268c7aefa6011bb1510786'}\n",
            "{'$oid': '5a43c08fe4b014fd6b6a0612'}\n",
            "{'$oid': '60268c69efa6011bb151075f'}\n",
            "{'$oid': '5fbc35711d967d1222cbfefc'}\n",
            "{'$oid': '5fc961c3b8cfca11a077dd33'}\n",
            "{'$oid': '5fa41775898c7a11a6bcef3e'}\n",
            "{'$oid': '5fa32b4d898c7a11a6bcebce'}\n",
            "{'$oid': '5964eb07e4b03efd0c0f267b'}\n",
            "{'$oid': '54943462e4b07e684157a532'}\n"
          ]
        }
      ]
    },
    {
      "cell_type": "code",
      "source": [
        "# out of these totalSpent missing entries, check if they have any values that have 0?\n",
        "totalS=receipts['totalSpent']\n",
        "sum(totalS==0)\n",
        "# So these missing data means invalid and not because their order value is 0"
      ],
      "metadata": {
        "colab": {
          "base_uri": "https://localhost:8080/"
        },
        "id": "QRmUIMEEjTj-",
        "outputId": "e27a3d22-bb65-49d0-e1d7-76a3c7304223"
      },
      "execution_count": null,
      "outputs": [
        {
          "output_type": "execute_result",
          "data": {
            "text/plain": [
              "15"
            ]
          },
          "metadata": {},
          "execution_count": 117
        }
      ]
    },
    {
      "cell_type": "code",
      "source": [
        "#Finding duplicates in brands\n",
        "brands['name'].unique()"
      ],
      "metadata": {
        "colab": {
          "base_uri": "https://localhost:8080/"
        },
        "id": "hvhqx3gL8BsW",
        "outputId": "950f58c0-be8b-4dfb-e4e7-01f330424dc4"
      },
      "execution_count": null,
      "outputs": [
        {
          "output_type": "execute_result",
          "data": {
            "text/plain": [
              "array(['test brand @1612366101024', 'Starbucks',\n",
              "       'test brand @1612366146176', ..., 'test brand @1598639215217',\n",
              "       'LIPTON TEA Leaves', 'test brand @1613158231643'], dtype=object)"
            ]
          },
          "metadata": {},
          "execution_count": 88
        }
      ]
    },
    {
      "cell_type": "markdown",
      "source": [
        "I wanted to see how many unique records are there in my variable of interest and how does it correlate with brand name. This will help to see if I need to do a group by with brand id or brand name. Brand name might not be consistent due to spelling errors or spacing. \n",
        "\n",
        "I noticed there are a lot of test brand in this dataset - something we need to exclude before performing any SQL queries. "
      ],
      "metadata": {
        "id": "YtBfHpctAW4V"
      }
    },
    {
      "cell_type": "code",
      "source": [
        "# Plotting outliers using boxplot \n",
        "df = receipts['totalSpent']\n",
        "df.plot(kind='box', figsize =(10,10))"
      ],
      "metadata": {
        "colab": {
          "base_uri": "https://localhost:8080/",
          "height": 609
        },
        "id": "iC4O9LSDUx4n",
        "outputId": "bd4e7132-87e3-4b8b-d455-c8e32dd94e6f"
      },
      "execution_count": null,
      "outputs": [
        {
          "output_type": "execute_result",
          "data": {
            "text/plain": [
              "<matplotlib.axes._subplots.AxesSubplot at 0x7f7d8f585b10>"
            ]
          },
          "metadata": {},
          "execution_count": 100
        },
        {
          "output_type": "display_data",
          "data": {
            "text/plain": [
              "<Figure size 720x720 with 1 Axes>"
            ],
            "image/png": "[encoded data removed]"
          },
          "metadata": {
            "needs_background": "light"
          }
        }
      ]
    },
    {
      "cell_type": "markdown",
      "source": [
        "We notice some outliners for totalSpent - we need take a closer look at these outliners to see whether it is a data entry error or something else. "
      ],
      "metadata": {
        "id": "7w9NHoBRXPi7"
      }
    },
    {
      "cell_type": "code",
      "source": [
        "#Further Exploration\n",
        "corr = receipts.corr()\n",
        "heatmap=sns.heatmap (corr, vmin=-1,vmax=1, annot =True)\n",
        "heatmap.set_title('Correlation Heatmap')\n"
      ],
      "metadata": {
        "colab": {
          "base_uri": "https://localhost:8080/",
          "height": 393
        },
        "id": "8Mapd_ODdOdy",
        "outputId": "8487bffe-2ee4-4f50-b72a-46d5c4cddb81"
      },
      "execution_count": null,
      "outputs": [
        {
          "output_type": "execute_result",
          "data": {
            "text/plain": [
              "Text(0.5, 1.0, 'Correlation Heatmap')"
            ]
          },
          "metadata": {},
          "execution_count": 115
        },
        {
          "output_type": "display_data",
          "data": {
            "text/plain": [
              "<Figure size 432x288 with 2 Axes>"
            ],
            "image/png": "[encoded data removed]"
          },
          "metadata": {
            "needs_background": "light"
          }
        }
      ]
    },
    {
      "cell_type": "markdown",
      "source": [
        "In this scenario we will explore correlation between variables in receipts. No signficant correlation was found"
      ],
      "metadata": {
        "id": "mTfQoe36dOJB"
      }
    },
    {
      "cell_type": "markdown",
      "source": [
        "#Part 4: Email"
      ],
      "metadata": {
        "id": "2-JU2-s6_hx9"
      }
    },
    {
      "cell_type": "markdown",
      "source": [
        "Hi Team, \n",
        "\n",
        "I noticed a few items that need to addressed regarding to Data Quality with Receipts, Brands, and Users dataset. \n",
        "\n",
        "1. Some of _id in Brands were called test_brands - how would you like us to go about this when coming to business decision?  \n",
        "2. Lots of missing data in totalSpent- how does the data was recorded? Was it recorded as the user scanned their receipt or when the receipt finishes processing?\n",
        "3. topBrand should be Boolean indicator to avoid null values\n",
        "4. What was the data format? Make sure they have to be consistent throughout the database. \n",
        "5. Nested JSON in rewardsReceiptsItemList column should be expanded which could help improving efficiency and analysis. \n",
        "\n",
        "I also wanted to know how the data was recorded. Will they get updated in real time?\n",
        "\n",
        "Let me know when you are available to talk over these issues. \n",
        "\n",
        "Best regards, \n",
        "\n"
      ],
      "metadata": {
        "id": "Ae7X7juJhCUk"
      }
    }
  ]
}